{
 "cells": [
  {
   "cell_type": "code",
   "execution_count": 1,
   "id": "0d41e562-0714-40ac-9522-a8bf1ace6619",
   "metadata": {},
   "outputs": [],
   "source": [
    "import pandas as pd"
   ]
  },
  {
   "cell_type": "code",
   "execution_count": 2,
   "id": "fa2c62f9-d267-4ea6-911a-bc639babaf86",
   "metadata": {},
   "outputs": [
    {
     "name": "stdout",
     "output_type": "stream",
     "text": [
      "   Season  GameId                     Date               Team Conference  \\\n",
      "0    2018    2871  2018-09-01 00:00:00.000  Abilene Christian  Southland   \n",
      "1    2018    2831  2018-09-01 00:00:00.000          Air Force         MW   \n",
      "2    2018    2897  2018-09-08 00:00:00.000          Air Force         MW   \n",
      "3    2018    3078  2018-09-22 00:00:00.000          Air Force         MW   \n",
      "4    2018    3140  2018-09-29 00:00:00.000          Air Force         MW   \n",
      "\n",
      "            OppTeam OppConference  Score  OppScore  WasCFPTeam  ...  \\\n",
      "0            Baylor         BIG12     27        55           0  ...   \n",
      "1       Stony Brook           CAA     38         0           0  ...   \n",
      "2  Florida Atlantic         C-USA     27        33           0  ...   \n",
      "3        Utah State            MW     32        42           0  ...   \n",
      "4            Nevada            MW     25        28           0  ...   \n",
      "\n",
      "   Sum_PassRushPAA  Plays_RunDefPoints  Sum_RunDefPoints  Sum_RunDefPAA  \\\n",
      "0        -2.819792                  35         11.675622      -3.945712   \n",
      "1        -4.214542                  27          7.311287      -9.945313   \n",
      "2        -6.354957                  36         28.059063      13.923643   \n",
      "3        -6.325032                  20          3.935479      -5.368693   \n",
      "4        -0.128212                  32         12.386761      -1.188617   \n",
      "\n",
      "   Max_WP  Min_WP  Median_WP  WP_FavoredPct       ADoT  AttemptedAirYards  \n",
      "0   0.565   0.000      0.055       0.022988   6.210526                236  \n",
      "1   1.000   0.472      0.979       0.987951  14.875000                119  \n",
      "2   0.473   0.000      0.235       0.000000  12.916666                155  \n",
      "3   0.719   0.000      0.289       0.191387  12.368421                235  \n",
      "4   0.518   0.030      0.212       0.011235  13.888888                250  \n",
      "\n",
      "[5 rows x 54 columns]\n"
     ]
    }
   ],
   "source": [
    "df = pd.read_csv(\"/Users/tamarapichardo/Desktop/random/football playoffs/data/OSUHackathon2025_TeamGameData.csv\")\n",
    "\n",
    "print(df.head())"
   ]
  },
  {
   "cell_type": "code",
   "execution_count": 5,
   "id": "3c2c2cbd-c71f-4d87-9fc4-98393c1e7a07",
   "metadata": {},
   "outputs": [],
   "source": [
    "#encode 'Win\" column as 1 or 0\n",
    "df[\"Win\"] = (df[\"Score\"] > df[\"OppScore\"]).astype(int)"
   ]
  },
  {
   "cell_type": "code",
   "execution_count": 6,
   "id": "944b61ce-bccd-4f6e-9592-340f465f6691",
   "metadata": {},
   "outputs": [],
   "source": [
    "#select features\n",
    "features = [\"OffensiveEPAPerPlay_All\", \"OffensiveSuccessRate_All\", \"OffensiveBoomRate_All\", \"OffensiveBustRate_All\"]\n",
    "X = df[features]\n",
    "y = df[\"Win\"]"
   ]
  },
  {
   "cell_type": "code",
   "execution_count": 13,
   "id": "227916d3-dd3a-418f-a881-b1f225245e41",
   "metadata": {},
   "outputs": [
    {
     "name": "stdout",
     "output_type": "stream",
     "text": [
      "Prediction Accuracy: 0.79\n"
     ]
    }
   ],
   "source": [
    "from sklearn.model_selection import train_test_split\n",
    "from sklearn.ensemble import RandomForestClassifier\n",
    "from sklearn.metrics import accuracy_score\n",
    "\n",
    "#split into train/test\n",
    "X_train, X_test, y_train, y_test = train_test_split(X, y, test_size = 0.2, random_state = 42)\n",
    "\n",
    "#train the model\n",
    "model = RandomForestClassifier(n_estimators = 100, random_state = 42)\n",
    "model.fit(X_train, y_train)\n",
    "\n",
    "#make predictions\n",
    "y_pred = model.predict(X_test)\n",
    "\n",
    "#check accuracy\n",
    "accuracy = accuracy_score(y_test, y_pred)\n",
    "print(f\"Prediction Accuracy: {accuracy:.2f}\")"
   ]
  },
  {
   "cell_type": "code",
   "execution_count": 14,
   "id": "de58513b-99a3-4e09-9981-b7422ca2e6ca",
   "metadata": {},
   "outputs": [
    {
     "data": {
      "text/plain": [
       "<sklearn.metrics._plot.confusion_matrix.ConfusionMatrixDisplay at 0x1741ac9b0>"
      ]
     },
     "execution_count": 14,
     "metadata": {},
     "output_type": "execute_result"
    },
    {
     "data": {
      "image/png": "[encoded data removed]",
      "text/plain": [
       "<Figure size 640x480 with 2 Axes>"
      ]
     },
     "metadata": {},
     "output_type": "display_data"
    }
   ],
   "source": [
    "from sklearn.metrics import ConfusionMatrixDisplay\n",
    "ConfusionMatrixDisplay.from_estimator(model, X_test, y_test)"
   ]
  },
  {
   "cell_type": "code",
   "execution_count": 15,
   "id": "f39361a8-70c6-4de3-b5e3-d9515b61b078",
   "metadata": {},
   "outputs": [
    {
     "name": "stdout",
     "output_type": "stream",
     "text": [
      "Predicted Win\n"
     ]
    }
   ],
   "source": [
    "#example matchup\n",
    "new_game = pd.DataFrame([{\n",
    "    \"OffensiveEPAPerPlay_All\": 0.46,\n",
    "    \"OffensiveSuccessRate_All\": 0.63,\n",
    "    \"OffensiveBoomRate_All\": 0.55,\n",
    "    \"OffensiveBustRate_All\": 0.16\n",
    "}])\n",
    "\n",
    "prediction = model.predict(new_game)\n",
    "print(\"Predicted Win\" if prediction[0] == 1 else \"Predicted Loss\")"
   ]
  }
 ],
 "metadata": {
  "kernelspec": {
   "display_name": "Python 3 (ipykernel)",
   "language": "python",
   "name": "python3"
  },
  "language_info": {
   "codemirror_mode": {
    "name": "ipython",
    "version": 3
   },
   "file_extension": ".py",
   "mimetype": "text/x-python",
   "name": "python",
   "nbconvert_exporter": "python",
   "pygments_lexer": "ipython3",
   "version": "3.12.8"
  }
 },
 "nbformat": 4,
 "nbformat_minor": 5
}
